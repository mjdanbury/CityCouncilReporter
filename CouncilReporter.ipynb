{
 "cells": [
  {
   "cell_type": "code",
   "execution_count": 1,
   "metadata": {},
   "outputs": [],
   "source": [
    "#Imports\n",
    "import dotenv\n",
    "from langchain.document_loaders import YoutubeLoader\n",
    "from langchain.chat_models import ChatOpenAI\n",
    "from langchain.chains.combine_documents.stuff import StuffDocumentsChain\n",
    "from langchain.chains.llm import LLMChain\n",
    "from langchain.prompts import PromptTemplate\n",
    "from langchain.chains import MapReduceDocumentsChain, ReduceDocumentsChain\n",
    "from langchain.text_splitter import RecursiveCharacterTextSplitter\n",
    "from langchain.embeddings import OpenAIEmbeddings\n",
    "from langchain.vectorstores import Chroma\n",
    "from langchain.schema import StrOutputParser\n",
    "from langchain.schema.runnable import RunnablePassthrough\n",
    "from langchain.schema.messages import AIMessage, HumanMessage\n",
    "from langchain.prompts import ChatPromptTemplate, MessagesPlaceholder\n",
    "import gradio as gr"
   ]
  },
  {
   "cell_type": "code",
   "execution_count": 2,
   "metadata": {},
   "outputs": [],
   "source": [
    "docs = []\n",
    "retriever = {}"
   ]
  },
  {
   "cell_type": "code",
   "execution_count": 3,
   "metadata": {},
   "outputs": [],
   "source": [
    "def youtube_summary(my_url):\n",
    "\n",
    "    loader = YoutubeLoader.from_youtube_url(\n",
    "        my_url, add_video_info=False\n",
    "    )\n",
    "\n",
    "    global docs\n",
    "\n",
    "    docs = loader.load()\n",
    "\n",
    "    vec_splitter = RecursiveCharacterTextSplitter(\n",
    "        chunk_size=1000, chunk_overlap=200, add_start_index=True\n",
    "    )\n",
    "\n",
    "    vec_splits = vec_splitter.split_documents(docs)\n",
    "\n",
    "    vectorstore = Chroma.from_documents(documents=vec_splits, embedding=OpenAIEmbeddings())\n",
    "\n",
    "    global retriever\n",
    "\n",
    "    retriever = vectorstore.as_retriever(search_type='similarity', search_kwargs={\"k\": 6})\n",
    "\n",
    "    llm = ChatOpenAI(temperature=0)\n",
    "\n",
    "    map_template = \"\"\"The following is a transcript from a New York City Council Meeting.\n",
    "    {docs}\n",
    "    Based on this transcript, please identify angles that a journalist covering this city council meeting might want to write a story about. These do not have to be fully fleshed out stories. Rather, they should be leads that the journalist would follow up on with rigorous reporting. Please include the most relevant quote from the transcript for each angle.\n",
    "    Helpful Answer:\"\"\"\n",
    "\n",
    "    map_prompt = PromptTemplate.from_template(map_template)\n",
    "\n",
    "    map_chain = LLMChain(llm=llm, prompt=map_prompt)\n",
    "\n",
    "    reduce_template = \"\"\"The following is set of angles that a journalist might wish to pursue in their reporiting:\n",
    "    {docs}\n",
    "    Take these and distill it into a final, consolidated list of angles to follow up on. \n",
    "    Helpful Answer:\"\"\"\n",
    "    reduce_prompt = PromptTemplate.from_template(reduce_template)\n",
    "\n",
    "    reduce_chain = LLMChain(llm=llm, prompt=reduce_prompt)\n",
    "\n",
    "    combine_documents_chain = StuffDocumentsChain(\n",
    "        llm_chain=reduce_chain, document_variable_name=\"docs\"\n",
    "    )\n",
    "\n",
    "    reduce_documents_chain = ReduceDocumentsChain(\n",
    "        # This is final chain that is called.\n",
    "        combine_documents_chain=combine_documents_chain,\n",
    "        # If documents exceed context for `StuffDocumentsChain`\n",
    "        collapse_documents_chain=combine_documents_chain,\n",
    "        # The maximum number of tokens to group documents into.\n",
    "        token_max=4000,\n",
    "    )\n",
    "\n",
    "    map_reduce_chain = MapReduceDocumentsChain(\n",
    "        # Map chain\n",
    "        llm_chain=map_chain,\n",
    "        # Reduce chain\n",
    "        reduce_documents_chain=reduce_documents_chain,\n",
    "        # The variable name in the llm_chain to put the documents in\n",
    "        document_variable_name=\"docs\",\n",
    "        # Return the results of the map steps in the output\n",
    "        return_intermediate_steps=False,\n",
    "    )\n",
    "\n",
    "    text_splitter = RecursiveCharacterTextSplitter(\n",
    "        chunk_size=10000, chunk_overlap=2000, add_start_index=True\n",
    "    )\n",
    "\n",
    "    split_docs = text_splitter.split_documents(docs)\n",
    "\n",
    "    return map_reduce_chain.run(split_docs)"
   ]
  },
  {
   "cell_type": "code",
   "execution_count": 4,
   "metadata": {},
   "outputs": [],
   "source": [
    "def rag_respond(message, history):\n",
    "\n",
    "    llm = ChatOpenAI(model_name='gpt-3.5-turbo', temperature=0)\n",
    "\n",
    "    def format_docs(docs):\n",
    "        return \"\\n\\n\".join(doc.page_content for doc in docs)\n",
    "    \n",
    "\n",
    "    condense_q_system_prompt = \"\"\"Given a chat history and the latest user question \\\n",
    "    which might reference the chat history, formulate a standalone question \\\n",
    "    which can be understood without the chat history. Do NOT answer the question, \\\n",
    "    just reformulate it if needed and otherwise return it as is.\"\"\"\n",
    "\n",
    "    condense_q_prompt = ChatPromptTemplate.from_messages(\n",
    "        [\n",
    "            (\"system\", condense_q_system_prompt),\n",
    "            MessagesPlaceholder(variable_name=\"chat_history\"),\n",
    "            (\"human\", \"{question}\"),\n",
    "        ]\n",
    "    )\n",
    "\n",
    "    condense_q_chain = condense_q_prompt | llm | StrOutputParser()\n",
    "\n",
    "    qa_system_prompt = \"\"\"You are an assistant for question-answering tasks. \\\n",
    "    Use the following pieces of retrieved context to answer the question. \\\n",
    "    If you don't know the answer, just say that you don't know. \\\n",
    "    Incorporate any important context but keep your answer concise.\\\n",
    "\n",
    "    {context}\"\"\"\n",
    "\n",
    "    qa_prompt = ChatPromptTemplate.from_messages(\n",
    "        [\n",
    "            (\"system\", qa_system_prompt),\n",
    "            MessagesPlaceholder(variable_name=\"chat_history\"),\n",
    "            (\"human\", \"{question}\"),\n",
    "        ]\n",
    "    )\n",
    "\n",
    "    def condense_question(input: dict):\n",
    "        if input.get(\"chat_history\"):\n",
    "            return condense_q_chain\n",
    "        else:\n",
    "            return input[\"question\"]\n",
    "        \n",
    "    rag_chain = (\n",
    "        RunnablePassthrough.assign(context=condense_question | retriever | format_docs)\n",
    "        | qa_prompt\n",
    "        | llm\n",
    "    )\n",
    "    \n",
    "    history_langchain_format = []\n",
    "    for human, ai in history:\n",
    "        history_langchain_format.append(HumanMessage(content=human))\n",
    "        history_langchain_format.append(AIMessage(content=ai))\n",
    "    history_langchain_format.append(HumanMessage(content=message))\n",
    "    gpt_response = rag_chain.invoke({\"question\":message,\"chat_history\":history_langchain_format})\n",
    "    return gpt_response.content"
   ]
  },
  {
   "cell_type": "code",
   "execution_count": null,
   "metadata": {},
   "outputs": [
    {
     "name": "stdout",
     "output_type": "stream",
     "text": [
      "Running on local URL:  http://127.0.0.1:7860\n",
      "\n",
      "To create a public link, set `share=True` in `launch()`.\n"
     ]
    },
    {
     "data": {
      "text/html": [
       "<div><iframe src=\"http://127.0.0.1:7860/\" width=\"100%\" height=\"500\" allow=\"autoplay; camera; microphone; clipboard-read; clipboard-write;\" frameborder=\"0\" allowfullscreen></iframe></div>"
      ],
      "text/plain": [
       "<IPython.core.display.HTML object>"
      ]
     },
     "metadata": {},
     "output_type": "display_data"
    },
    {
     "data": {
      "text/plain": []
     },
     "execution_count": 5,
     "metadata": {},
     "output_type": "execute_result"
    },
    {
     "name": "stdout",
     "output_type": "stream",
     "text": [
      "IMPORTANT: You are using gradio version 4.25.0, however version 4.44.1 is available, please upgrade.\n",
      "--------\n",
      "IMPORTANT: You are using gradio version 4.25.0, however version 4.44.1 is available, please upgrade.\n",
      "--------\n"
     ]
    },
    {
     "name": "stderr",
     "output_type": "stream",
     "text": [
      "/var/folders/7g/_q1rw3r95gn9fptcst9g0v9c0000gn/T/ipykernel_21796/1919028750.py:17: LangChainDeprecationWarning: The class `OpenAIEmbeddings` was deprecated in LangChain 0.0.9 and will be removed in 1.0. An updated version of the class exists in the :class:`~langchain-openai package and should be used instead. To use it run `pip install -U :class:`~langchain-openai` and import as `from :class:`~langchain_openai import OpenAIEmbeddings``.\n",
      "  vectorstore = Chroma.from_documents(documents=vec_splits, embedding=OpenAIEmbeddings())\n",
      "/var/folders/7g/_q1rw3r95gn9fptcst9g0v9c0000gn/T/ipykernel_21796/1919028750.py:23: LangChainDeprecationWarning: The class `ChatOpenAI` was deprecated in LangChain 0.0.10 and will be removed in 1.0. An updated version of the class exists in the :class:`~langchain-openai package and should be used instead. To use it run `pip install -U :class:`~langchain-openai` and import as `from :class:`~langchain_openai import ChatOpenAI``.\n",
      "  llm = ChatOpenAI(temperature=0)\n",
      "/var/folders/7g/_q1rw3r95gn9fptcst9g0v9c0000gn/T/ipykernel_21796/1919028750.py:32: LangChainDeprecationWarning: The class `LLMChain` was deprecated in LangChain 0.1.17 and will be removed in 1.0. Use :meth:`~RunnableSequence, e.g., `prompt | llm`` instead.\n",
      "  map_chain = LLMChain(llm=llm, prompt=map_prompt)\n",
      "/var/folders/7g/_q1rw3r95gn9fptcst9g0v9c0000gn/T/ipykernel_21796/1919028750.py:42: LangChainDeprecationWarning: This class is deprecated. Use the `create_stuff_documents_chain` constructor instead. See migration guide here: https://python.langchain.com/docs/versions/migrating_chains/stuff_docs_chain/\n",
      "  combine_documents_chain = StuffDocumentsChain(\n",
      "/var/folders/7g/_q1rw3r95gn9fptcst9g0v9c0000gn/T/ipykernel_21796/1919028750.py:46: LangChainDeprecationWarning: This class is deprecated. Please see the migration guide here for a recommended replacement: https://python.langchain.com/docs/versions/migrating_chains/map_reduce_chain/\n",
      "  reduce_documents_chain = ReduceDocumentsChain(\n",
      "/var/folders/7g/_q1rw3r95gn9fptcst9g0v9c0000gn/T/ipykernel_21796/1919028750.py:55: LangChainDeprecationWarning: This class is deprecated. Please see the migration guide here for a recommended replacement: https://python.langchain.com/docs/versions/migrating_chains/map_reduce_chain/\n",
      "  map_reduce_chain = MapReduceDocumentsChain(\n",
      "/var/folders/7g/_q1rw3r95gn9fptcst9g0v9c0000gn/T/ipykernel_21796/1919028750.py:72: LangChainDeprecationWarning: The method `Chain.run` was deprecated in langchain 0.1.0 and will be removed in 1.0. Use :meth:`~invoke` instead.\n",
      "  return map_reduce_chain.run(split_docs)\n"
     ]
    }
   ],
   "source": [
    "with gr.Blocks() as demo:\n",
    "    gr.Markdown(\"# New York City Council AI Reporter\")\n",
    "    gr.Markdown(\"Find [a video](https://www.youtube.com/@NYCCouncil/streams) of a past New York City Council meeting and paste the URL below, or for a quick demo, use the one provided. The AI reporter will analyze the video transcript and suggest story angles for you to pursue. This will take some time—roughly one minute for every 15 minutes of transcript (90 seconds for the demo). When it finishes, you may ask it any followup questions and it will incorporate any relevant information it gleaned in its answers.\")\n",
    "    with gr.Row():\n",
    "        url_input = gr.Textbox(value=\"https://www.youtube.com/watch?v=FzCLB5ZFLdk\",label=\"YouTube URL of Meeting\")\n",
    "        submit_url_button = gr.Button(\"Generate Story Angles\")\n",
    "    summary_output = gr.Textbox(label=\"Suggested Story Angles\", interactive=False)\n",
    "\n",
    "    gr.Markdown(\"### Ask Followup Questions\")\n",
    "    gr.ChatInterface(rag_respond)\n",
    "\n",
    "    submit_url_button.click(youtube_summary, inputs=url_input, outputs=summary_output)\n",
    "    gr.Markdown('_Known Issue:_ Sometimes, the chatbot will claim that a topic listed in the story angles did not come up in the meeting, when in fact it did. To get it chatbot to \"remember\" this part of the meeting, simply insist \"yes, that was discussed\". This quirk will hopefully be addressed in future updates.')\n",
    "demo.launch()"
   ]
  },
  {
   "cell_type": "markdown",
   "metadata": {},
   "source": [
    "### Debugging"
   ]
  },
  {
   "cell_type": "code",
   "execution_count": 4,
   "metadata": {},
   "outputs": [
    {
     "ename": "ImportError",
     "evalue": "Could not import \"youtube_transcript_api\" Python package. Please install it with `pip install youtube-transcript-api`.",
     "output_type": "error",
     "traceback": [
      "\u001b[0;31m---------------------------------------------------------------------------\u001b[0m",
      "\u001b[0;31mImportError\u001b[0m                               Traceback (most recent call last)",
      "File \u001b[0;32m~/.pyenv/versions/3.11.7/lib/python3.11/site-packages/langchain_community/document_loaders/youtube.py:243\u001b[0m, in \u001b[0;36mYoutubeLoader.load\u001b[0;34m(self)\u001b[0m\n\u001b[1;32m    242\u001b[0m \u001b[38;5;28;01mtry\u001b[39;00m:\n\u001b[0;32m--> 243\u001b[0m     \u001b[38;5;28;01mfrom\u001b[39;00m \u001b[38;5;21;01myoutube_transcript_api\u001b[39;00m \u001b[38;5;28;01mimport\u001b[39;00m (\n\u001b[1;32m    244\u001b[0m         FetchedTranscript,\n\u001b[1;32m    245\u001b[0m         NoTranscriptFound,\n\u001b[1;32m    246\u001b[0m         TranscriptsDisabled,\n\u001b[1;32m    247\u001b[0m         YouTubeTranscriptApi,\n\u001b[1;32m    248\u001b[0m     )\n\u001b[1;32m    249\u001b[0m \u001b[38;5;28;01mexcept\u001b[39;00m \u001b[38;5;167;01mImportError\u001b[39;00m:\n",
      "\u001b[0;31mImportError\u001b[0m: cannot import name 'FetchedTranscript' from 'youtube_transcript_api' (/Users/matthew/.pyenv/versions/3.11.7/lib/python3.11/site-packages/youtube_transcript_api/__init__.py)",
      "\nDuring handling of the above exception, another exception occurred:\n",
      "\u001b[0;31mImportError\u001b[0m                               Traceback (most recent call last)",
      "Cell \u001b[0;32mIn[4], line 1\u001b[0m\n\u001b[0;32m----> 1\u001b[0m \u001b[43myoutube_summary\u001b[49m\u001b[43m(\u001b[49m\u001b[38;5;124;43m\"\u001b[39;49m\u001b[38;5;124;43mhttps://www.youtube.com/watch?v=FzCLB5ZFLdk\u001b[39;49m\u001b[38;5;124;43m\"\u001b[39;49m\u001b[43m)\u001b[49m\n",
      "Cell \u001b[0;32mIn[3], line 9\u001b[0m, in \u001b[0;36myoutube_summary\u001b[0;34m(my_url)\u001b[0m\n\u001b[1;32m      3\u001b[0m loader \u001b[38;5;241m=\u001b[39m YoutubeLoader\u001b[38;5;241m.\u001b[39mfrom_youtube_url(\n\u001b[1;32m      4\u001b[0m     my_url, add_video_info\u001b[38;5;241m=\u001b[39m\u001b[38;5;28;01mTrue\u001b[39;00m\n\u001b[1;32m      5\u001b[0m )\n\u001b[1;32m      7\u001b[0m \u001b[38;5;28;01mglobal\u001b[39;00m docs\n\u001b[0;32m----> 9\u001b[0m docs \u001b[38;5;241m=\u001b[39m \u001b[43mloader\u001b[49m\u001b[38;5;241;43m.\u001b[39;49m\u001b[43mload\u001b[49m\u001b[43m(\u001b[49m\u001b[43m)\u001b[49m\n\u001b[1;32m     11\u001b[0m vec_splitter \u001b[38;5;241m=\u001b[39m RecursiveCharacterTextSplitter(\n\u001b[1;32m     12\u001b[0m     chunk_size\u001b[38;5;241m=\u001b[39m\u001b[38;5;241m1000\u001b[39m, chunk_overlap\u001b[38;5;241m=\u001b[39m\u001b[38;5;241m200\u001b[39m, add_start_index\u001b[38;5;241m=\u001b[39m\u001b[38;5;28;01mTrue\u001b[39;00m\n\u001b[1;32m     13\u001b[0m )\n\u001b[1;32m     15\u001b[0m vec_splits \u001b[38;5;241m=\u001b[39m vec_splitter\u001b[38;5;241m.\u001b[39msplit_documents(docs)\n",
      "File \u001b[0;32m~/.pyenv/versions/3.11.7/lib/python3.11/site-packages/langchain_community/document_loaders/youtube.py:250\u001b[0m, in \u001b[0;36mYoutubeLoader.load\u001b[0;34m(self)\u001b[0m\n\u001b[1;32m    243\u001b[0m     \u001b[38;5;28;01mfrom\u001b[39;00m \u001b[38;5;21;01myoutube_transcript_api\u001b[39;00m \u001b[38;5;28;01mimport\u001b[39;00m (\n\u001b[1;32m    244\u001b[0m         FetchedTranscript,\n\u001b[1;32m    245\u001b[0m         NoTranscriptFound,\n\u001b[1;32m    246\u001b[0m         TranscriptsDisabled,\n\u001b[1;32m    247\u001b[0m         YouTubeTranscriptApi,\n\u001b[1;32m    248\u001b[0m     )\n\u001b[1;32m    249\u001b[0m \u001b[38;5;28;01mexcept\u001b[39;00m \u001b[38;5;167;01mImportError\u001b[39;00m:\n\u001b[0;32m--> 250\u001b[0m     \u001b[38;5;28;01mraise\u001b[39;00m \u001b[38;5;167;01mImportError\u001b[39;00m(\n\u001b[1;32m    251\u001b[0m         \u001b[38;5;124m'\u001b[39m\u001b[38;5;124mCould not import \u001b[39m\u001b[38;5;124m\"\u001b[39m\u001b[38;5;124myoutube_transcript_api\u001b[39m\u001b[38;5;124m\"\u001b[39m\u001b[38;5;124m Python package. \u001b[39m\u001b[38;5;124m'\u001b[39m\n\u001b[1;32m    252\u001b[0m         \u001b[38;5;124m\"\u001b[39m\u001b[38;5;124mPlease install it with `pip install youtube-transcript-api`.\u001b[39m\u001b[38;5;124m\"\u001b[39m\n\u001b[1;32m    253\u001b[0m     )\n\u001b[1;32m    255\u001b[0m \u001b[38;5;28;01mif\u001b[39;00m \u001b[38;5;28mself\u001b[39m\u001b[38;5;241m.\u001b[39madd_video_info:\n\u001b[1;32m    256\u001b[0m     \u001b[38;5;66;03m# Get more video meta info\u001b[39;00m\n\u001b[1;32m    257\u001b[0m     \u001b[38;5;66;03m# Such as title, description, thumbnail url, publish_date\u001b[39;00m\n\u001b[1;32m    258\u001b[0m     video_info \u001b[38;5;241m=\u001b[39m \u001b[38;5;28mself\u001b[39m\u001b[38;5;241m.\u001b[39m_get_video_info()\n",
      "\u001b[0;31mImportError\u001b[0m: Could not import \"youtube_transcript_api\" Python package. Please install it with `pip install youtube-transcript-api`."
     ]
    }
   ],
   "source": [
    "youtube_summary(\"https://www.youtube.com/watch?v=FzCLB5ZFLdk\")"
   ]
  },
  {
   "cell_type": "code",
   "execution_count": 4,
   "metadata": {},
   "outputs": [
    {
     "data": {
      "text/plain": [
       "[Document(metadata={'source': 'FzCLB5ZFLdk'}, page_content=\"Workforce and job training programs and Zoning by taking a coordinated datadriven approach to sustaining and growing the city's industrial businesses and jobs this legislation will offer long overdue support to a vital sector of our economy and to the industrial business zones and workers throughout our districts thank you to speaker Adams for your leadership and to all the co-sponsors of this bill um and and especially to my co-prime sponsor council member Gutierrez as the first bronxites and Latino to chair the committee on economic development I'm proud to get this win for workers in my district and across the city finally thank you to the economic development committee Council Alex pinof director of L use Paris strer Brian Paul Julia man and William Vidal from the luse division for all your hard work on this bill and a huge thank you to our advocates in this sector for their support um and their long fought fight for this to become a reality thank you so much thank you we now hear from council member VES followed by council member Gutierrez good afternoon colleagues I just want to take a moment and extend gratitude to speaker Adams uh majority Whit Brook's powers and the many co-sponsors on intro 708 in addition I want to thank the environmental justice Advocates including the New York City environmental justice Alliance uprose nilp and members of The Last Mile coalition since my first day in office I have been looking tirelessly for ways to address the inundation of Last Mile facilities in our communities and their impacts bringing thousands of additional trucks into our community to what many Red Hook residents refer to as truck apocalypse polluting our air congesting our streets and while I continue to look ways to Pro for ways to protect District 38 from the city's continued practice of environmental Injustice through neglect this bill represents to me and my community a step forward in the right direction for the first time in 50 years our truck routes will be redesigned and in the process give voice to our community members our local businesses and our environmental justice Advocates I also want to thank the Department of Transportation who during negotiations on this bill acknowledged a need for this legislation and for working with impacted communities to me this illustrates a shift in our Collective thinking that I hope to see reflected in future legislation this is but one small piece of a larger pu puzzle to bring real planning and rationalization to our city while advancing climate Transportation Health labor and racial Justice goals to our community I I and my community eagerly await full implementation and a future with cleaner air and safer streets I encourage my colleagues to vote Yes to pass intro 708 thank you thank you we'll here now from Council Gutierrez followed by council member Baron thank you uh I'm excited that the Industrial Development strategic plan is passing today uh congratulations to speaker Adams and chair FAS who have been wonderful Champions and great collaborators um it's a perfect example of the council's commitment to economic growth and building a more resilient sustainable future in fact the speaker brought it up at her state of the city earlier this year so very very proud to be a part of this team New York City's industrial sector has the opportunity to be the modern Beating Heart of opportunity for Working Families immigrants and communities of color while also growing our economy and supporting essential infrastructure that keeps our city running but these zones have been neglected for decades and face the constant threat of encroachment by commercial and entertainment uses the Industrial Development strategic plan will help inform future neighborhood planning and land use actions to apply the new M zoning districts proposed by DCP in the Zoning for Economic Opportunity text amendment I hope that other council members will join us in our growing M Zone Coalition which is working to protect these districts thousands of jobs and this vital industry and I'm also excited to pass a biometric tax credit today which underscores the city's commitment to manufacturing intro 1070 enables investors and owners of qualified smaller and emerging emerging biotech companies to claim a tax credit which will support increased manufacturing job creation and Innovation with the city and uh thank you to the whole land use team who played a vital role in helping us get to where we're at thank you thank you and I hear from council member Baron uh thank you my colleagues I Rise for the importance of the fair housing plan I think this plan is important step in the right direction but we have to be vigilant in our examining of the city of yes planned by the mayor which I think is a city of no it benefits developers more than it does the residents we also have to be very very cauti of the inflationary rate of the Ami which you're passing right now for the area median in income which is 60% we say is Affordable today but when these buildings and projects are built 5 years from now when the Ami climbs by 20 and 30 and 40% 60% is not going to be affordable in our neighborhoods so when we passing our development projects for affordable housing we have to go lower we have to go to 30 and 40% of the Ami because 60% is Affordable today in some communities and won't be affordable tomorrow the other thing we have to look out for is the m mandatory inclusion housing we're talking 25% here 25% which means 75% is market and the reason why they say 25% because they need the 75% money for the market to make the 25% affordable and often times that's not affordable we have to bring the mih up to 60% and when they tell you that won't be doable because we won't have the money to make it affordable tell them that we have $164 billion 10year capital budget the money is there we have to have the will of this body to make affordability real thank you councilor Baron do have anyone else signed up at this time see none we'll move into the report of special committees none report of standing committees report of the committee on Aging intro 564a commission for lgbtqia plus older adults amended and coupled on General Orders report of the committee on contracts intro 511a procurement process schedules amended and coupled non general orders report of the committee on economic development intro 1012a Industrial Development strategic plan amended and coupled on General Orders report of the committee on finance intro 10 70a biotechnology credit amended and coupled on General Orders intros 129 and 1210 business Improvement districts coupled on General Orders preons Lu 286 and reso 845 and precons LU 287 and reso 846 tax exemptions coupled on General Orders report of the committee on governmental operations intro 348a credit card and Bank fees amended and coupled on General Orders report of the committee on housing and buildings intro 1031a fair housing plan amended and coupled on General Orders report of the committee on transportation and infrastructure intro 708a City truck route Network redesign amended and couple on general orders I now ask that the clerk take a roll call vote on all of the items coupled on today's General Orders calendar o o say I would like to vote on all of today's General Order calendar and resolutions go ahead permission to explain my vote go ahead Russell Tyrone Jones was a Pioneer in the world of music and one of New York's Immortal Sons he must have known that one day he would have a day in his honor added to New York's calendar so that his self-given stage name Old Dirty Bastard will be read aloud on the floor of this hallowed space as the New Millennium approached hip-hop music was rapidly climbing in cultural significance but for years West Coast rap dominated the hip-hop scene with their debut album 36 Chambers which was obviously named after New York's 36 Council District wuen Clan turned the tide helping to cement East Coast w at the top of the field and bring the industry's center of gravity back to its rightful home in New York I can go on for hours about his musical career uh I should also mention the time he once saved the child from a car wreck and continued to visit her and the hospital thereafter the man was and is a legend I'm proud of this body for passing this resolution today recognizing this Legacy and ensuring that the life of old D Dirty Bastard or as Speaker Adam says ODB is celebrated each year on his birthday for generations to come thank you Riley permission to vote on all resolution land use call up and items on today's General calendar I assum as well thank you go ahead I on all thank you Abu I Ariola I on all a i all Ayala I Baron uh I on all botcher Brennan hi Brewer Brooks Powers I and congratulations to all of those passing bills today kaban I Carr I all De Rosa din witz I know farus I vote I on all Feliz permission to explain my vote go ahead thank you first I'd like to disclose on the record that I am an Adjunct professor at hostos Community College in the Bronx part of the commity system proud to vote I on all and I'm especially proud to vote I on the fair housing framework legislation led by our very own speaker Adrian Adams we are in a housing crisis and every corner of our city must help resolve this crisis not just the South Bronx not just the Central Bronx not just East New York everyone must help resolve the housing crisis affecting our city the city of New York for far too long we've heard so many conversations so many comments from everyone in the city about this housing crisis so many comments so many conversations from everyone in the city about this housing crisis but for far too long not everybody has been building so we need to do more um at the end of the day conversations speeches and performances when the media is pointed at you that does not build housing at the end of the day we could only resolve this housing crisis uh by building so proud to vote on this legislation uh and I hope that it helps us make progress in every part of our city thank you so much thank you janaro Mr leader I wish to speak on my vote go ahead uh thank you uh I want to congratulate council member AAS and chair Brooks powers on intro 708a uh regarding the uh truck route redesign this is a real environmental Jud real um um um environmental justice issue uh that council member has worked long and hard on and it was to uh join the chorus of those uh speaking out in favor of the speaker's fair housing uh Bill and with that I vote I Gutierrez I hanif I Hanks permission to explain my vote go ahead thank you I would like to applaud the speaker and I am proud to stand um and vote for for the fair housing bill I am happy that this bill will also help underpin my Northshore action plan as Staten Island in my district in particular has some of the lowest um affordable housing units in New York City um as a mother of four I have two children that I would really like to leave my home and um and I know that there are other folks who are who stand with me as well I purchased my home when I was 27 years old and that those things do not that's not available for young people today and so this fair housing plan this bill significantly changes that so young people like my children can self-actualize and and be in their own space and leave their homes so I am very happy to be voting for this today thank you Holden I on all Hudson I on all Joseph ion all Kagan ion know Krishna I know Lee I all Lewis I on all Marte I mey I Menan I and all Moya thank you naris I don't know nurse I Paladino I on all wrestler I on all and really want to thank the speaker for her leadership on this fair housing plan it is critically important thank you Richardson Jordan Riva thanks to the speaker for her legislation and congrats to my colleagues on their bills I vote I salaman I know Sanchez permission to explain my vote go ahead thank you Majority Leader uh New Yorkers cannot always agree on the weather or whether the sky is blue but we are finally in agreement that there is a housing crisis in the city and that we must be we must do something about it so I want to thank the speaker for her leadership on the fair housing legislation and urge us all to take advantage of this unique moment where we have a once in a lifetime opportunity where there is political will and Alignment to make profound changes to the way that we produce housing so let's do it carefully thoughtfully and attentive to our housing goals Equity desegregation neighborhood stability opportunity for the next generation of New Yorkers is not going to create itself housing for the lowest income New Yorkers is not going to be produced without guidance and intervention thank you so much speaker for your leadership shman ionol Stevens I on iol Velasquez vernikov I know Williams one I on all joerger I on all with the exception of introductions 1209 1210 and 708 Powers I and all speaker Adams congratulations to all of my colleagues passing legislation today and a tremendous thank you to my colleagues who support the fair housing FR who who support the fair housing congratulations and thank congratulations and congratulations and thank you I on all all all items on today's General Order calendar adopted by a vote of 48 in the affirmative Z negative and zero exensions 45 sorry 45 in the affirmative Zer negative and zero extensions with the exception of introductions 1209 1210 and 708 adopted by a vote of 44 in the affirmative one negative and zero extensions we'll now move into the introduction and reading of Bill s all bills have been referred to committees as indicated on today's agenda thank you we'll now move to the discussion of resolutions don't have anyone currently signed up to speak on today's resolutions uh so we will move into a Voice vote on today's resolution if you wish to vote against or abstain from today's resolution please notify the legislative documents unit by email or by approaching the deis I'll Now read today's resolution into the record resolution 621a designates November 15th annually as I will say it old dirty bastard day in the city of New York and honors his legacy as founder of the leg of the legendary wuang Clan and as a unique MC will all those in favor please say I all opposeed say nay any extensions the eyes have it we'll now move into the general discussion I'd like to start with Min minority leader Joe barelli before I call up Joe I want to note that we all got uh gifts today they were not from Joe belli I'm just kidding you had your opportunity to ask everyone to say Shimmy Shimmy Ya Shimmy Shimmy y you missed it um so I hope uh most of you guys and guest got a shakery board I would call it a cutting board but here in the New York City Council we don't do many Cuts am I right am I um you're allowed to boo you're allowed to boo so um when I first came to the council in November of 2015 uh one of the first meetings I had was to bring Lorraine Guillo who was the chair of the president of the school construction authority to a dilapidated uh old building that had trailer and and just the floors were rotting out of this school building uh called ps37 that was housing developmentally disabled children and had physically disabled children and it's been eight years but now uh we have rebuilt a brand new school for this population on Staten Island uh and it's a k to2 school and now they have all different programs that teach them skills including woodworking uh which is why uh we got this board so with the with the holidays coming up uh you know great thing for meat and cheese if you're a vegan put some vegetables on it if you're one of my socialist friends hey whatever's ration for that for this fall season I'm kidding I'm kidding I'm kidding everyone but but thank you for allowing me this light-hearted uh moment just to say how good some disabled kids are doing on Staten Island thanks to the work that we do routinely here in the New York City Council so thank you this is uh Stan Island Day in the the city council uh thank you thank you minor leader uh we'll now hear from council member Nares followed by council member FAS thank you majority leader and I want to say thank you to Madame speaker Adrien Adams that keep it real and making sure to address the inequities in New York City Housing is a big thing so I want to say thank you and um I would like to talk about Entre 1250 today as a public servant and registered nurse familiar with the health care challenges um many of them actually New York City face I am introducing a bill aimed at establishing the office of organ transplant Equity within our health um Department this bill is a big step towards rect rectifying the imbalances in our organ transplant system and ensuring that every New Yorker has Fair access to this critical and potentially life-saving procedures the officer of organ transplant Equity as proposed will ensure that all New Yorkers particularly those from underserved communities have Equitable access to organ transplant I'm a donor and I want my organ if anything happen to me to go to anyone that deserve it according to when they register this bill is about saving lives and ensuring fairness in healthcare it is is about supporting our residents in their times of greatest need informed by the principle that the value of a life should never be determined by social or economic status allow me to thank the New York New York Lawyers for the public for the public interest New York immigration Coalition make the Road New York co- prom sponsors um cm scholman and hanif and the legislative Council Margaret leaford for their support and all the legislative team thank you Jeremy fiser all of you that supported and making sure that we address the inequities I urge all my colleague to support this this legislation together we can make a commitment to Health Equity that will resonate to the lives of um saving the families and support everyone thank you thank you vote yes to that when it comes up for a vote uh well now go to counciler Amanda faras thank you Majority Leader I just wanted to wish a very happy Dali to all who celebrate many of us have already started celebrating Dali with our communities and looking to continue to um here tomorrow in the city council's Dali celebration where we get to highlight some of our very own local community members and I hope you all join the speaker myself council members Krishna and janaro Lee and more to celebrate the Festival of Lights with our communities right here in Chambers thank you do we have anyone else signed up at this time to speak seeing none I'll Now call on speaker adriam Adams to close out today's meeting thank you majority leader and colleagues the stated meeting of November 15 2023 is hereby adjourned happy birthday muffin for\")]"
      ]
     },
     "execution_count": 4,
     "metadata": {},
     "output_type": "execute_result"
    }
   ],
   "source": [
    "loader = YoutubeLoader.from_youtube_url(\n",
    "        \"https://www.youtube.com/watch?v=FzCLB5ZFLdk\", add_video_info=False\n",
    "    )\n",
    "loader.load()"
   ]
  }
 ],
 "metadata": {
  "kernelspec": {
   "display_name": "3.11.7",
   "language": "python",
   "name": "python3"
  },
  "language_info": {
   "codemirror_mode": {
    "name": "ipython",
    "version": 3
   },
   "file_extension": ".py",
   "mimetype": "text/x-python",
   "name": "python",
   "nbconvert_exporter": "python",
   "pygments_lexer": "ipython3",
   "version": "3.11.7"
  }
 },
 "nbformat": 4,
 "nbformat_minor": 2
}
